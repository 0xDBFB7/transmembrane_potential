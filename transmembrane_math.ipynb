{
 "cells": [
  {
   "cell_type": "code",
   "execution_count": 4,
   "metadata": {},
   "outputs": [],
   "source": [
    "%display latex"
   ]
  },
  {
   "cell_type": "code",
   "execution_count": 14,
   "metadata": {},
   "outputs": [],
   "source": [
    "# sage comes with a built-in pip:\n",
    "# ~/Programs/SageMath/sage --pip install dill\n",
    "\n",
    "import dill\n",
    "import pickle\n",
    "from transmembrane_lib import *\n",
    "\n",
    "\n",
    "from scipy.integrate import odeint\n",
    "from sympy.plotting import plot\n",
    "from sympy import init_printing\n",
    "import sympy\n",
    "from sympy.abc import t\n",
    "from sympy import Array, Sum, Indexed, IndexedBase, Idx\n",
    "init_printing()\n",
    "from sympy.abc import t # x is the independent variable\n",
    "from sympy import Function, dsolve, Eq, Derivative, sin, cos, symbols, exp, pi, diff, Poly\n",
    "from sympy.physics.units.systems import SI\n",
    "from sympy.physics.units import length, mass, acceleration, force\n",
    "from sympy.physics.units import gravitational_constant as G\n",
    "from sympy.physics.units.systems.si import dimsys_SI\n",
    "import sympy.physics.units as units\n",
    "#import pprint as pps\n",
    "import sympy\n",
    "import sympy.physics.units.util as util\n",
    "from dataclasses import dataclass\n",
    "from sympy.simplify.radsimp import collect\n",
    "from sympy.assumptions.refine import refine\n",
    "from sympy import init_printing\n",
    "from sympy.simplify.powsimp import powsimp\n",
    "init_printing()\n",
    "from scipy.integrate import odeint\n",
    "from sympy.plotting import plot\n",
    "from sympy import init_printing\n",
    "import sympy\n",
    "from sympy.abc import t\n",
    "from sympy import Array, Sum, Indexed, IndexedBase, Idx\n",
    "init_printing()\n",
    "from sympy.abc import t # x is the independent variable\n",
    "from sympy import Function, dsolve, Eq, Derivative, sin, cos, symbols, exp, pi, diff, Poly\n",
    "\n",
    "def convexp(name, val):\n",
    "    return Eq(sympy.S(name), val, evaluate=False)"
   ]
  },
  {
   "cell_type": "markdown",
   "metadata": {},
   "source": []
  },
  {
   "cell_type": "code",
   "execution_count": 19,
   "metadata": {},
   "outputs": [
    {
     "data": {
      "image/png": "[encoded data removed]",
      "text/latex": [
       "$\\displaystyle a_{1} = 3 d l_{o} \\left(l_{i} \\left(3 R^{2} - 3 R d + d^{2}\\right) + l_{m} \\left(3 R d - d^{2}\\right)\\right)$"
      ],
      "text/plain": [
       "Eq(a_1, 3*d*l_o*(l_i*(3*R**2 - 3*R*d + d**2) + l_m*(3*R*d - d**2)))"
      ]
     },
     "metadata": {},
     "output_type": "display_data"
    },
    {
     "data": {
      "image/png": "[encoded data removed]",
      "text/latex": [
       "$\\displaystyle a_{2} = 3 d \\left(\\left(3 R d - d^{2}\\right) \\left(e_{m} l_{o} + e_{o} l_{m}\\right) + \\left(e_{i} l_{o} + e_{o} l_{i}\\right) \\left(3 R^{2} - 3 R d + d^{2}\\right)\\right)$"
      ],
      "text/plain": [
       "Eq(a_2, 3*d*((3*R*d - d**2)*(e_m*l_o + e_o*l_m) + (e_i*l_o + e_o*l_i)*(3*R**2 - 3*R*d + d**2)))"
      ]
     },
     "metadata": {},
     "output_type": "display_data"
    },
    {
     "data": {
      "image/png": "[encoded data removed]",
      "text/latex": [
       "$\\displaystyle a_{3} = 3 d e_{o} \\left(e_{i} \\left(3 R^{2} - 3 R d + d^{2}\\right) + e_{m} \\left(3 R d - d^{2}\\right)\\right)$"
      ],
      "text/plain": [
       "Eq(a_3, 3*d*e_o*(e_i*(3*R**2 - 3*R*d + d**2) + e_m*(3*R*d - d**2)))"
      ]
     },
     "metadata": {},
     "output_type": "display_data"
    }
   ],
   "source": [
    "e_o, e_i, e_m, R, l_o, l_i, l_m, d, a_1, a_2, a_3, b_1, b_2, b_3 = symbols('e_o e_i e_m R l_o l_i l_m d a_1 a_2 a_3 b_1 b_2 b_3')\n",
    "#     e_o = self.extracellular_permittivity * eps0 # S/m\n",
    "#     e_i = self.intracellular_permittivity * eps0 #S/m\n",
    "#     e_m = self.membrane_permittivity * eps0 #S/m\n",
    "#     R = self.cell_diameter / 2\n",
    "#     self.R = R\n",
    "\n",
    "#     l_o = self.extracellular_conductivity*Spm # S/m\n",
    "#     l_i = self.intracellular_conductivity*Spm #S/m\n",
    "#     l_m = self.membrane_conductivity*Spm #S/m\n",
    "\n",
    "#     d = self.membrane_thickness\n",
    "# epsilon_0\n",
    "\n",
    "sub1, sub2 = symbols('sub1 sub2')\n",
    "sub1 = (3 * (R**2) - 3 * d * R + d**2)\n",
    "sub2 = (3 * d * R - d**2)\n",
    "\n",
    "a_1 = 3 * d * l_o * ((l_i * (sub1)) + l_m*(sub2)) #eq.9a\n",
    "a_2 = 3 * d * ((l_i * e_o + l_o * e_i) * sub1 + (l_m * e_o + l_o * e_m) * sub2)\n",
    "a_3 = 3 * d * e_o * (e_i * (sub1) + e_m * sub2)\n",
    "\n",
    "b_1 = 2 * R**3 * (l_m +     2*l_o) * (l_m + (1/2) * l_i) + 2 * (R-d)**3 * (l_m - l_o) * (l_i - l_m)\n",
    "\n",
    "b_2 = 2 * R**3 * (l_i * ((1/2) * e_m + e_o) + l_m * ((1/2)*e_i + 2*e_m + 2*e_o) + l_o * (e_i + 2 * e_m)) + (2 * (R - d)**3\\\n",
    "* (l_i * (e_m - e_o) + l_m * (e_i - 2*e_m + e_o) - l_o * (e_i - e_m))) # is this truly a multiply, or a cross?\n",
    "\n",
    "\n",
    "b_3 = 2 * R**3 * (e_m + 2*e_o) * (e_m + (1/2) * e_i) + 2 * (R-d)**3 * (e_m - e_o) * (e_i - e_m)\n",
    "\n",
    "\n",
    "display(convexp(\"a_1\", a_1))\n",
    "display(convexp(\"a_2\", a_2))\n",
    "display(convexp(\"a_3\", a_3))"
   ]
  },
  {
   "cell_type": "code",
   "execution_count": null,
   "metadata": {},
   "outputs": [],
   "source": []
  },
  {
   "cell_type": "markdown",
   "metadata": {},
   "source": [
    "\n",
    "For convenience, let's convert the Kotnik equation to standard DE form, following the guide here: https://lpsa.swarthmore.edu/Representations/SysRepTransformations/TF2SDE.html\n",
    "\n",
    "originally (mistakenly) used A6c (1998). Switched to eq 8, (multiplied by R, eq 10).\n",
    "also missed switching the top and bottom: the top goes with the input terms (right) and the bottom with the output.\n",
    "\n",
    "\n",
    "`H(s)= (R*X(s)) / U(s) = (R a3 s^2 + R a2 s + R a3) / (b3 s^2 + b2 s + b1)`\n",
    "\n",
    "\n",
    "> \"Separate the equation so that the output terms, X(s), are on the\n",
    "left and the input terms, Fa(s), are on the right.  Make sure there are only positive powers of s.\"\n",
    "\n",
    "`(b3 s^2 + b2 s + b1) X(s) = (R a3 s^2 + R a2 s + R a3) U(s)`\n",
    "\n",
    "> \"Now take the inverse Laplace Transform (so multiplications by \"s\" in the Laplace domain are replaced by derivatives in time).\"\n",
    "\n",
    "`b3 x'' + b2 x' + b1 x = R a3 u'' + R a2 u' + R a3 u`\n",
    "\n",
    "where u is the input function,\n",
    "\n",
    "Most solvers like gekko want the equation in first order, so we have to substitute in a new state variable representing the first derivative, converting to a system of DEs.\n",
    "\n",
    "http://www.math.utah.edu/~gustafso/2250systems-de.pdf\n",
    "http://www.sharetechnote.com/html/DE_HigherOrderDEtoFirstOrderDE.html\n",
    "https://math.berkeley.edu/~zworski/128/psol12.pdf\n",
    "\n",
    "https://math.stackexchange.com/questions/1120984/\n",
    "\n",
    "(reworked because I found the notation confusing (u2 should be the second derivative!))\n",
    "\n",
    "```\n",
    "u0 = u\n",
    "u1 = u'\n",
    "u2 = u''\n",
    "\n",
    "      x0 = x\n",
    "x0' = x1 = x'\n",
    "x1' = x2 = x'' =\n",
    "\n",
    "    b3 x'' + b2 x' + b1 x = R a3 u'' + R a2 u' + R a3 u\n",
    "    x''  = (R a3 u'' + R a2 u' + R a3 u - b2 x' - b1 x)/b3\n",
    "    x2  = (R*a3*u2 + R*a2*u1 + R*a3*u0 - b2*x1 - b1*x0)/b3\n",
    "\n",
    "```\n",
    "\n",
    "docs: \"In all simulation modes (IMODE=1,4,7), the number of equations must equal the number of variables.\"\n",
    "\n",
    "\n"
   ]
  },
  {
   "cell_type": "code",
   "execution_count": 6,
   "metadata": {},
   "outputs": [
    {
     "ename": "NameError",
     "evalue": "name 'x0_v' is not defined",
     "output_type": "error",
     "traceback": [
      "\u001b[0;31m---------------------------------------------------------------------------\u001b[0m",
      "\u001b[0;31mNameError\u001b[0m                                 Traceback (most recent call last)",
      "\u001b[0;32m<ipython-input-6-d0765d1841f5>\u001b[0m in \u001b[0;36m<module>\u001b[0;34m\u001b[0m\n\u001b[0;32m----> 1\u001b[0;31m \u001b[0mEq\u001b[0m\u001b[0;34m(\u001b[0m\u001b[0mx1_v\u001b[0m\u001b[0;34m=\u001b[0m\u001b[0mdiff\u001b[0m\u001b[0;34m(\u001b[0m\u001b[0mx0_v\u001b[0m\u001b[0;34m,\u001b[0m\u001b[0mt\u001b[0m\u001b[0;34m)\u001b[0m\u001b[0;34m)\u001b[0m\u001b[0;34m\u001b[0m\u001b[0;34m\u001b[0m\u001b[0m\n\u001b[0m\u001b[1;32m      2\u001b[0m \u001b[0mm\u001b[0m\u001b[0;34m.\u001b[0m\u001b[0mEquation\u001b[0m\u001b[0;34m(\u001b[0m\u001b[0mx2_v\u001b[0m\u001b[0;34m==\u001b[0m\u001b[0mx1_v\u001b[0m\u001b[0;34m.\u001b[0m\u001b[0mdt\u001b[0m\u001b[0;34m(\u001b[0m\u001b[0;34m)\u001b[0m\u001b[0;34m)\u001b[0m\u001b[0;34m\u001b[0m\u001b[0;34m\u001b[0m\u001b[0m\n\u001b[1;32m      3\u001b[0m \u001b[0mm\u001b[0m\u001b[0;34m.\u001b[0m\u001b[0mEquation\u001b[0m\u001b[0;34m(\u001b[0m\u001b[0mx2_v\u001b[0m \u001b[0;34m==\u001b[0m \u001b[0;34m(\u001b[0m\u001b[0;34m(\u001b[0m\u001b[0mSU0\u001b[0m \u001b[0;34m/\u001b[0m \u001b[0;34m(\u001b[0m\u001b[0mST0\u001b[0m\u001b[0;34m**\u001b[0m\u001b[0;36m2\u001b[0m\u001b[0;34m)\u001b[0m\u001b[0;34m)\u001b[0m\u001b[0;34m*\u001b[0m\u001b[0malpha_v\u001b[0m\u001b[0;34m*\u001b[0m\u001b[0mu2\u001b[0m \u001b[0;34m+\u001b[0m \u001b[0;34m(\u001b[0m\u001b[0mSU0\u001b[0m \u001b[0;34m/\u001b[0m \u001b[0mST0\u001b[0m\u001b[0;34m)\u001b[0m\u001b[0;34m*\u001b[0m\u001b[0mbeta_v\u001b[0m\u001b[0;34m*\u001b[0m\u001b[0mu1\u001b[0m \u001b[0;34m+\u001b[0m \u001b[0mgamma_v\u001b[0m\u001b[0;34m*\u001b[0m\u001b[0mSU0\u001b[0m\u001b[0;34m*\u001b[0m\u001b[0mu0\u001b[0m \u001b[0;34m-\u001b[0m \u001b[0mphi_v\u001b[0m\u001b[0;34m*\u001b[0m\u001b[0;34m(\u001b[0m\u001b[0mSX0\u001b[0m \u001b[0;34m/\u001b[0m \u001b[0mST0\u001b[0m\u001b[0;34m)\u001b[0m\u001b[0;34m*\u001b[0m\u001b[0mx1_v\u001b[0m \u001b[0;34m-\u001b[0m \u001b[0mxi_v\u001b[0m\u001b[0;34m*\u001b[0m\u001b[0mSX0\u001b[0m\u001b[0;34m*\u001b[0m\u001b[0mx0_v\u001b[0m\u001b[0;34m)\u001b[0m\u001b[0;34m/\u001b[0m\u001b[0;34m(\u001b[0m\u001b[0mSX0\u001b[0m \u001b[0;34m/\u001b[0m \u001b[0;34m(\u001b[0m\u001b[0mST0\u001b[0m\u001b[0;34m**\u001b[0m\u001b[0;36m2\u001b[0m\u001b[0;34m)\u001b[0m\u001b[0;34m)\u001b[0m\u001b[0;34m)\u001b[0m\u001b[0;34m\u001b[0m\u001b[0;34m\u001b[0m\u001b[0m\n",
      "\u001b[0;31mNameError\u001b[0m: name 'x0_v' is not defined"
     ]
    }
   ],
   "source": [
    "\n",
    "\n",
    "Eq(x1_v=diff(x0_v,t))\n",
    "m.Equation(x2_v==x1_v.dt())\n",
    "m.Equation(x2_v == ((SU0 / (ST0**2))*alpha_v*u2 + (SU0 / ST0)*beta_v*u1 + gamma_v*SU0*u0 - phi_v*(SX0 / ST0)*x1_v - xi_v*SX0*x0_v)/(SX0 / (ST0**2)))"
   ]
  },
  {
   "cell_type": "markdown",
   "metadata": {},
   "source": [
    "# Yen and Nagurka"
   ]
  },
  {
   "cell_type": "code",
   "execution_count": 15,
   "metadata": {},
   "outputs": [],
   "source": [
    "\n",
    "t, 𝛂, 𝛃, 𝛄, 𝛙, 𝛏, C1, C2, M, J = symbols(\"t alpha beta gamma phi xi C1 C2  M J\")\n",
    "p_0, p_1, p_2, p_3, p_4, p_5 = symbols(\"p_0 p_1 p_2 p_3 p_4 p_5\")\n",
    "a_1, b_1 = symbols(\"a_1, b_1\")\n",
    "t_f = symbols((\"t_f\"))\n",
    "j,m,k = symbols(\"j m k\")\n",
    "\n",
    "P = Function('P')\n",
    "p = IndexedBase('p')\n",
    "P = Sum(p[j]*t**j,(j,0,5))#sympy chokes on all of these\n",
    "\n",
    "\n",
    "λ = Function('lamda')\n",
    "a = IndexedBase('a')\n",
    "b = IndexedBase('b')\n",
    "\n",
    "λ = Sum(a[m] * cos(2 * m * pi * t / t_f), (m, 1, M)) + Sum(b[m] * sin(2 * m * pi * t / t_f), (m, 1, M))\n",
    "\n",
    "# sympy.pprint(λ)\n",
    "# sympy.pprint(diff(λ, t))\n",
    "# sympy.pprint(diff(λ, t, t))\n",
    "\n",
    "X = P + λ"
   ]
  },
  {
   "cell_type": "code",
   "execution_count": 2,
   "metadata": {},
   "outputs": [
    {
     "ename": "NameError",
     "evalue": "name 'X' is not defined",
     "output_type": "error",
     "traceback": [
      "\u001b[0;31m---------------------------------------------------------------------------\u001b[0m",
      "\u001b[0;31mNameError\u001b[0m                                 Traceback (most recent call last)",
      "\u001b[0;32m<ipython-input-2-b5fec669aca1>\u001b[0m in \u001b[0;36m<module>\u001b[0;34m\u001b[0m\n\u001b[0;32m----> 1\u001b[0;31m \u001b[0mX\u001b[0m\u001b[0;34m\u001b[0m\u001b[0;34m\u001b[0m\u001b[0m\n\u001b[0m",
      "\u001b[0;31mNameError\u001b[0m: name 'X' is not defined"
     ]
    }
   ],
   "source": [
    "X"
   ]
  },
  {
   "cell_type": "code",
   "execution_count": null,
   "metadata": {},
   "outputs": [],
   "source": [
    "diff(X , t)"
   ]
  },
  {
   "cell_type": "code",
   "execution_count": null,
   "metadata": {
    "scrolled": true
   },
   "outputs": [],
   "source": [
    "diff(X , t, t)"
   ]
  },
  {
   "cell_type": "markdown",
   "metadata": {},
   "source": [
    "# Method of undetermined coefficients\n"
   ]
  },
  {
   "cell_type": "code",
   "execution_count": null,
   "metadata": {},
   "outputs": [],
   "source": []
  },
  {
   "cell_type": "markdown",
   "metadata": {},
   "source": [
    "# Pore formation"
   ]
  },
  {
   "cell_type": "code",
   "execution_count": null,
   "metadata": {},
   "outputs": [],
   "source": [
    "v_m,alpha,N0,q,v_ep, N_ic = symbols(\"v_m,alpha,N0,q,v_ep, N_ic\", real=True)\n",
    "N = Function('N')\n",
    "# v_m = Function('v_m')\n",
    "\n",
    "v_m = sympy.simplify(solution.rhs)\n",
    "\n",
    "k = (v_m/v_ep)**2\n",
    "\n",
    "LHS = diff(N(t),t)\n",
    "RHS = alpha * exp(k) * (1.0 - (N(t)/N0)*exp(-q*k))\n",
    "\n",
    "sympy.pprint(Eq(LHS, RHS))\n",
    "\n",
    "solution = dsolve(Eq(LHS, RHS), N(t), ics={N(0): N_ic})\n",
    "\n",
    "# adding W(t_f): W_tf, W(t).diff(t,1).subs(t,t_f): d_W_tf}\n",
    "# raises ValueError: Couldn't solve for initial conditions\n",
    "\n",
    "# sympy.pprint(sympy.simplify(solution))\n"
   ]
  },
  {
   "cell_type": "code",
   "execution_count": null,
   "metadata": {
    "scrolled": true
   },
   "outputs": [],
   "source": []
  },
  {
   "cell_type": "code",
   "execution_count": null,
   "metadata": {
    "scrolled": true
   },
   "outputs": [],
   "source": [
    "ic(default_virus(np.array([])).alpha)\n",
    "ic(default_virus(np.array([])).beta)\n",
    "ic(default_virus(np.array([])).gamma)\n",
    "ic(default_virus(np.array([])).xi)\n"
   ]
  },
  {
   "cell_type": "markdown",
   "metadata": {},
   "source": [
    "# Incorrect pore current formulation\n",
    "\n",
    "where $\\text{v}_m$ is the normalized version"
   ]
  },
  {
   "cell_type": "code",
   "execution_count": null,
   "metadata": {
    "scrolled": false
   },
   "outputs": [],
   "source": [
    "w0,F,R,T,r_m,diameter,h,sigma,n,N,k = symbols(\"w0,F,R,T,r_m,diameter,h,sigma,n,N,k\")\n",
    "v_m = Function('v_m')\n",
    "\n",
    "#v_m = (V_m(t)) * (F/(R*T))\n",
    "\n",
    "v_m = v_m(t)\n",
    "\n",
    "i_ep_term_1 = (pi * (r_m**2) * sigma * v_m * R * T) / (F * h)\n",
    "\n",
    "i_ep_term_2_divisor_1 = exp(v_m)*((w0*exp(w0-n*v_m) - (n*v_m)) / (w0 - (n*v_m)))\n",
    "i_ep_term_2_divisor_2 = -((w0*exp(w0+n*v_m) + (n*v_m)) / (w0 + (n*v_m)))\n",
    "i_ep_term_2 = exp(v_m - 1) / (i_ep_term_2_divisor_1 + i_ep_term_2_divisor_2)\n",
    "\n",
    "i_ep = i_ep_term_1 * i_ep_term_2\n",
    "# I = C_m dv/dt\n",
    "# dv_dt = I/C_m\n",
    "# permittivity already has the eps0 in it\n",
    "A = 4*pi*(diameter/2)**2\n",
    "C_m = k * A / h\n",
    "I_ep = -(i_ep * N / C_m)\n",
    "\n",
    "I_ep"
   ]
  },
  {
   "cell_type": "code",
   "execution_count": null,
   "metadata": {},
   "outputs": [],
   "source": [
    "print(I_ep.diff(t))"
   ]
  },
  {
   "cell_type": "code",
   "execution_count": null,
   "metadata": {
    "scrolled": false
   },
   "outputs": [],
   "source": [
    "print(simplify(simplify((I_ep.diff(t))._sage_())))#.canonicalize_radical()"
   ]
  },
  {
   "cell_type": "markdown",
   "metadata": {},
   "source": []
  },
  {
   "attachments": {
    "Screenshot%20from%202021-08-26%2014-42-13.png": {
     "image/png": "[encoded data removed]"
    }
   },
   "cell_type": "markdown",
   "metadata": {},
   "source": [
    "![Screenshot%20from%202021-08-26%2014-42-13.png](attachment:Screenshot%20from%202021-08-26%2014-42-13.png)\n",
    "\n"
   ]
  },
  {
   "attachments": {
    "Screenshot%20from%202021-08-26%2017-14-59.png": {
     "image/png": "[encoded data removed]"
    }
   },
   "cell_type": "markdown",
   "metadata": {},
   "source": [
    "![Screenshot%20from%202021-08-26%2017-14-59.png](attachment:Screenshot%20from%202021-08-26%2017-14-59.png)"
   ]
  },
  {
   "cell_type": "markdown",
   "metadata": {},
   "source": [
    "Though the initial \"snap\" is correctly represented, this is clearly just wrong. "
   ]
  },
  {
   "cell_type": "code",
   "execution_count": null,
   "metadata": {},
   "outputs": [],
   "source": []
  },
  {
   "cell_type": "markdown",
   "metadata": {},
   "source": [
    "# Nondimensionalization, attempt 2\n",
    "\n",
    "- Scale all terms in the virus by the ratio of the diameter?"
   ]
  },
  {
   "cell_type": "code",
   "execution_count": null,
   "metadata": {},
   "outputs": [],
   "source": []
  },
  {
   "cell_type": "code",
   "execution_count": null,
   "metadata": {},
   "outputs": [],
   "source": []
  }
 ],
 "metadata": {
  "kernelspec": {
   "display_name": "SageMath 9.0",
   "language": "sage",
   "name": "sagemath"
  },
  "language_info": {
   "codemirror_mode": {
    "name": "ipython",
    "version": 3
   },
   "file_extension": ".py",
   "mimetype": "text/x-python",
   "name": "python",
   "nbconvert_exporter": "python",
   "pygments_lexer": "ipython3",
   "version": "3.7.3"
  }
 },
 "nbformat": 4,
 "nbformat_minor": 4
}
