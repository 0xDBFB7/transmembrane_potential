{
 "cells": [
  {
   "cell_type": "code",
   "execution_count": 16,
   "metadata": {},
   "outputs": [],
   "source": [
    "f, k, J = var(\"f, k, J\")\n",
    "alpha_v, beta_v, gamma_v, phi_v, xi_v = var(\"alpha_v, beta_v, gamma_v, phi_v, xi_v\")\n",
    "alpha_h, beta_h, gamma_h, phi_h, xi_h = var(\"alpha_h, beta_h, gamma_h, phi_h, xi_h\")\n",
    "\n",
    "test = (8*pi**2*f - 2*I*pi*phi_h)*(-4*pi**2*alpha_h*f**2 + 2*I*pi*beta_h*f + gamma_h)/(-4*pi**2*f**2 + 2*I*pi*f*phi_h + xi_h)**2 - (8*pi**2*f - 2*I*pi*phi_v)*(-4*pi**2*alpha_v*f**2 + 2*I*pi*beta_v*f + gamma_v)/(-4*pi**2*f**2 + 2*I*pi*f*phi_v + xi_v)**2 + (-8*pi**2*alpha_h*f + 2*I*pi*beta_h)/(-4*pi**2*f**2 + 2*I*pi*f*phi_h + xi_h) - (-8*pi**2*alpha_v*f + 2*I*pi*beta_v)/(-4*pi**2*f**2 + 2*I*pi*f*phi_v + xi_v)"
   ]
  },
  {
   "cell_type": "code",
   "execution_count": 21,
   "metadata": {},
   "outputs": [
    {
     "data": {
      "text/plain": [
       "[0=%i*%pi^2*_SAGE_VAR_f^2*(_SAGE_VAR_alpha_h*(4*_SAGE_VAR_phi_h*_SAGE_VAR_xi_v^2+16*_SAGE_VAR_phi_v*_SAGE_VAR_xi_h*_SAGE_VAR_xi_v)+_SAGE_VAR_beta_h*((-4*_SAGE_VAR_xi_v^2)+8*_SAGE_VAR_xi_h*_SAGE_VAR_xi_v+4*_SAGE_VAR_phi_v^2*_SAGE_VAR_xi_h)+_SAGE_VAR_alpha_v*((-16*_SAGE_VAR_phi_h*_SAGE_VAR_xi_h*_SAGE_VAR_xi_v)-4*_SAGE_VAR_phi_v*_SAGE_VAR_xi_h^2)+_SAGE_VAR_beta_v*((-8*_SAGE_VAR_xi_h*_SAGE_VAR_xi_v)-4*_SAGE_VAR_phi_h^2*_SAGE_VAR_xi_v+4*_SAGE_VAR_xi_h^2)+_SAGE_VAR_gamma_h*(_SAGE_VAR_phi_h*((-8*_SAGE_VAR_xi_v)-4*_SAGE_VAR_phi_v^2)-16*_SAGE_VAR_phi_v*_SAGE_VAR_xi_v)+_SAGE_VAR_gamma_v*(8*_SAGE_VAR_phi_v*_SAGE_VAR_xi_h+16*_SAGE_VAR_phi_h*_SAGE_VAR_xi_h+4*_SAGE_VAR_phi_h^2*_SAGE_VAR_phi_v))+%i*((-_SAGE_VAR_beta_h*_SAGE_VAR_xi_h*_SAGE_VAR_xi_v^2)+_SAGE_VAR_gamma_h*_SAGE_VAR_phi_h*_SAGE_VAR_xi_v^2+_SAGE_VAR_beta_v*_SAGE_VAR_xi_h^2*_SAGE_VAR_xi_v-_SAGE_VAR_gamma_v*_SAGE_VAR_phi_v*_SAGE_VAR_xi_h^2)+%pi*_SAGE_VAR_f*(4*_SAGE_VAR_alpha_h*_SAGE_VAR_xi_h*_SAGE_VAR_xi_v^2+_SAGE_VAR_gamma_h*((-4*_SAGE_VAR_xi_v^2)-4*_SAGE_VAR_phi_h*_SAGE_VAR_phi_v*_SAGE_VAR_xi_v)-4*_SAGE_VAR_alpha_v*_SAGE_VAR_xi_h^2*_SAGE_VAR_xi_v+4*_SAGE_VAR_beta_h*_SAGE_VAR_phi_v*_SAGE_VAR_xi_h*_SAGE_VAR_xi_v-4*_SAGE_VAR_beta_v*_SAGE_VAR_phi_h*_SAGE_VAR_xi_h*_SAGE_VAR_xi_v+_SAGE_VAR_gamma_v*(4*_SAGE_VAR_xi_h^2+4*_SAGE_VAR_phi_h*_SAGE_VAR_phi_v*_SAGE_VAR_xi_h))+%pi^3*_SAGE_VAR_f^3*(_SAGE_VAR_alpha_v*(32*_SAGE_VAR_xi_h*_SAGE_VAR_xi_v+16*_SAGE_VAR_phi_h^2*_SAGE_VAR_xi_v+16*_SAGE_VAR_phi_h*_SAGE_VAR_phi_v*_SAGE_VAR_xi_h)+_SAGE_VAR_alpha_h*((-32*_SAGE_VAR_xi_h*_SAGE_VAR_xi_v)-16*_SAGE_VAR_phi_h*_SAGE_VAR_phi_v*_SAGE_VAR_xi_v-16*_SAGE_VAR_phi_v^2*_SAGE_VAR_xi_h)+_SAGE_VAR_gamma_h*(32*_SAGE_VAR_xi_v+16*_SAGE_VAR_phi_v^2+16*_SAGE_VAR_phi_h*_SAGE_VAR_phi_v)+_SAGE_VAR_beta_h*_SAGE_VAR_phi_v*(16*_SAGE_VAR_xi_v-16*_SAGE_VAR_xi_h)+_SAGE_VAR_beta_v*_SAGE_VAR_phi_h*(16*_SAGE_VAR_xi_v-16*_SAGE_VAR_xi_h)+_SAGE_VAR_gamma_v*((-32*_SAGE_VAR_xi_h)-16*_SAGE_VAR_phi_h*_SAGE_VAR_phi_v-16*_SAGE_VAR_phi_h^2))+%i*%pi^4*_SAGE_VAR_f^4*(_SAGE_VAR_alpha_v*(64*_SAGE_VAR_phi_h*_SAGE_VAR_xi_v+32*_SAGE_VAR_phi_v*_SAGE_VAR_xi_h+16*_SAGE_VAR_phi_h^2*_SAGE_VAR_phi_v)+_SAGE_VAR_beta_h*(32*_SAGE_VAR_xi_v-16*_SAGE_VAR_xi_h+16*_SAGE_VAR_phi_v^2)+_SAGE_VAR_beta_v*(16*_SAGE_VAR_xi_v-32*_SAGE_VAR_xi_h-16*_SAGE_VAR_phi_h^2)+_SAGE_VAR_alpha_h*(_SAGE_VAR_phi_h*((-32*_SAGE_VAR_xi_v)-16*_SAGE_VAR_phi_v^2)-64*_SAGE_VAR_phi_v*_SAGE_VAR_xi_h)+_SAGE_VAR_gamma_h*(64*_SAGE_VAR_phi_v+16*_SAGE_VAR_phi_h)+_SAGE_VAR_gamma_v*((-16*_SAGE_VAR_phi_v)-64*_SAGE_VAR_phi_h))+%pi^5*_SAGE_VAR_f^5*(_SAGE_VAR_alpha_v*((-64*_SAGE_VAR_xi_v)-64*_SAGE_VAR_phi_h*_SAGE_VAR_phi_v)+_SAGE_VAR_alpha_h*(64*_SAGE_VAR_xi_h+64*_SAGE_VAR_phi_h*_SAGE_VAR_phi_v)-64*_SAGE_VAR_beta_h*_SAGE_VAR_phi_v+64*_SAGE_VAR_beta_v*_SAGE_VAR_phi_h+64*_SAGE_VAR_gamma_v-64*_SAGE_VAR_gamma_h)+%i*%pi^6*_SAGE_VAR_f^6*((-64*_SAGE_VAR_alpha_v*_SAGE_VAR_phi_v)+64*_SAGE_VAR_alpha_h*_SAGE_VAR_phi_h+64*_SAGE_VAR_beta_v-64*_SAGE_VAR_beta_h)]"
      ]
     },
     "execution_count": 21,
     "metadata": {},
     "output_type": "execute_result"
    }
   ],
   "source": [
    "maxima(test).solve(f)"
   ]
  },
  {
   "cell_type": "code",
   "execution_count": null,
   "metadata": {},
   "outputs": [],
   "source": []
  }
 ],
 "metadata": {
  "kernelspec": {
   "display_name": "SageMath 9.0",
   "language": "sage",
   "name": "sagemath"
  },
  "language_info": {
   "codemirror_mode": {
    "name": "ipython",
    "version": 3
   },
   "file_extension": ".py",
   "mimetype": "text/x-python",
   "name": "python",
   "nbconvert_exporter": "python",
   "pygments_lexer": "ipython3",
   "version": "3.7.3"
  }
 },
 "nbformat": 4,
 "nbformat_minor": 4
}
